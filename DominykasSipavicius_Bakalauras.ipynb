{
  "cells": [
    {
      "cell_type": "code",
      "execution_count": null,
      "metadata": {
        "colab": {
          "base_uri": "https://localhost:8080/"
        },
        "id": "yQzwg4mmCRPl",
        "outputId": "40b7fc44-e0d7-4396-ec58-f32ee3aadbd4"
      },
      "outputs": [
        {
          "output_type": "stream",
          "name": "stdout",
          "text": [
            "Mounted at /content/drive\n"
          ]
        }
      ],
      "source": [
        "from google.colab import drive\n",
        "drive.mount('/content/drive', force_remount=True)"
      ]
    },
    {
      "cell_type": "code",
      "execution_count": null,
      "metadata": {
        "colab": {
          "base_uri": "https://localhost:8080/"
        },
        "id": "JyuR04-SHcQ9",
        "outputId": "f02e018e-9d9d-4aed-ea14-22679fe33ddb"
      },
      "outputs": [
        {
          "output_type": "stream",
          "name": "stdout",
          "text": [
            "Collecting mne\n",
            "  Downloading mne-1.7.0-py3-none-any.whl (7.4 MB)\n",
            "\u001b[2K     \u001b[90m━━━━━━━━━━━━━━━━━━━━━━━━━━━━━━━━━━━━━━━━\u001b[0m \u001b[32m7.4/7.4 MB\u001b[0m \u001b[31m16.2 MB/s\u001b[0m eta \u001b[36m0:00:00\u001b[0m\n",
            "\u001b[?25hRequirement already satisfied: decorator in /usr/local/lib/python3.10/dist-packages (from mne) (4.4.2)\n",
            "Requirement already satisfied: jinja2 in /usr/local/lib/python3.10/dist-packages (from mne) (3.1.4)\n",
            "Requirement already satisfied: lazy-loader>=0.3 in /usr/local/lib/python3.10/dist-packages (from mne) (0.4)\n",
            "Requirement already satisfied: matplotlib>=3.5.0 in /usr/local/lib/python3.10/dist-packages (from mne) (3.7.1)\n",
            "Requirement already satisfied: numpy>=1.21.2 in /usr/local/lib/python3.10/dist-packages (from mne) (1.25.2)\n",
            "Requirement already satisfied: packaging in /usr/local/lib/python3.10/dist-packages (from mne) (24.0)\n",
            "Requirement already satisfied: pooch>=1.5 in /usr/local/lib/python3.10/dist-packages (from mne) (1.8.1)\n",
            "Requirement already satisfied: scipy>=1.7.1 in /usr/local/lib/python3.10/dist-packages (from mne) (1.11.4)\n",
            "Requirement already satisfied: tqdm in /usr/local/lib/python3.10/dist-packages (from mne) (4.66.4)\n",
            "Requirement already satisfied: contourpy>=1.0.1 in /usr/local/lib/python3.10/dist-packages (from matplotlib>=3.5.0->mne) (1.2.1)\n",
            "Requirement already satisfied: cycler>=0.10 in /usr/local/lib/python3.10/dist-packages (from matplotlib>=3.5.0->mne) (0.12.1)\n",
            "Requirement already satisfied: fonttools>=4.22.0 in /usr/local/lib/python3.10/dist-packages (from matplotlib>=3.5.0->mne) (4.51.0)\n",
            "Requirement already satisfied: kiwisolver>=1.0.1 in /usr/local/lib/python3.10/dist-packages (from matplotlib>=3.5.0->mne) (1.4.5)\n",
            "Requirement already satisfied: pillow>=6.2.0 in /usr/local/lib/python3.10/dist-packages (from matplotlib>=3.5.0->mne) (9.4.0)\n",
            "Requirement already satisfied: pyparsing>=2.3.1 in /usr/local/lib/python3.10/dist-packages (from matplotlib>=3.5.0->mne) (3.1.2)\n",
            "Requirement already satisfied: python-dateutil>=2.7 in /usr/local/lib/python3.10/dist-packages (from matplotlib>=3.5.0->mne) (2.8.2)\n",
            "Requirement already satisfied: platformdirs>=2.5.0 in /usr/local/lib/python3.10/dist-packages (from pooch>=1.5->mne) (4.2.1)\n",
            "Requirement already satisfied: requests>=2.19.0 in /usr/local/lib/python3.10/dist-packages (from pooch>=1.5->mne) (2.31.0)\n",
            "Requirement already satisfied: MarkupSafe>=2.0 in /usr/local/lib/python3.10/dist-packages (from jinja2->mne) (2.1.5)\n",
            "Requirement already satisfied: six>=1.5 in /usr/local/lib/python3.10/dist-packages (from python-dateutil>=2.7->matplotlib>=3.5.0->mne) (1.16.0)\n",
            "Requirement already satisfied: charset-normalizer<4,>=2 in /usr/local/lib/python3.10/dist-packages (from requests>=2.19.0->pooch>=1.5->mne) (3.3.2)\n",
            "Requirement already satisfied: idna<4,>=2.5 in /usr/local/lib/python3.10/dist-packages (from requests>=2.19.0->pooch>=1.5->mne) (3.7)\n",
            "Requirement already satisfied: urllib3<3,>=1.21.1 in /usr/local/lib/python3.10/dist-packages (from requests>=2.19.0->pooch>=1.5->mne) (2.0.7)\n",
            "Requirement already satisfied: certifi>=2017.4.17 in /usr/local/lib/python3.10/dist-packages (from requests>=2.19.0->pooch>=1.5->mne) (2024.2.2)\n",
            "Installing collected packages: mne\n",
            "Successfully installed mne-1.7.0\n"
          ]
        }
      ],
      "source": [
        "!pip install mne\n",
        "import mne\n",
        "import os\n",
        "import re\n",
        "import numpy as np\n",
        "import warnings\n",
        "import matplotlib.pyplot as plt\n",
        "\n",
        "warnings.filterwarnings(\"ignore\", message=\"This filename (.*) does not conform to MNE naming conventions.\")"
      ]
    },
    {
      "cell_type": "code",
      "execution_count": null,
      "metadata": {
        "id": "QzvP-zD0HkIi"
      },
      "outputs": [],
      "source": [
        "def remove_numbers(name):\n",
        "    parts = name.split('_')\n",
        "    class_name = parts[1]\n",
        "    return class_name\n",
        "\n",
        "def get_folder(name):\n",
        "    parts = name.split('_')\n",
        "    folder = parts[0]\n",
        "    return folder\n",
        "\n",
        "def read_eeg_data(file_path, folder):\n",
        "    raw = mne.io.read_raw_fif(file_path, preload=True, verbose = 40)\n",
        "\n",
        "    include_channels = [\"O1\", \"O2\", \"P3\", \"P4\", \"C3\", \"C4\", \"F3\", \"F4\"]\n",
        "    # include_channels = [\"F3\", \"F4\", \"C3\", \"C4\"]\n",
        "    raw.pick(picks=[ch for ch in raw.ch_names if ch in include_channels])\n",
        "    raw.filter(1, 100, verbose = 40)\n",
        "    raw.savgol_filter(15, verbose=40)\n",
        "    data_segments = raw.get_data()\n",
        "    # plot_trimmed_data(data_segments, raw.info['sfreq'], include_channels)\n",
        "\n",
        "    if data_segments.shape[1] >= 1225:\n",
        "        data_segments = data_segments[:, :1225]\n",
        "\n",
        "    elif data_segments.shape[1] < 1225:\n",
        "        raise ValueError(\"The data does not have enough time points. Required: 1225, Found: {}\".format(data_segments.shape[1]))\n",
        "\n",
        "    return data_segments\n",
        "\n",
        "def plot_trimmed_data(data_segments, sfreq, channel_names):\n",
        "\n",
        "    times = np.linspace(0, data_segments.shape[1] / sfreq, num=data_segments.shape[1])\n",
        "\n",
        "    plt.figure(figsize=(12, 6))\n",
        "    for i in range(data_segments.shape[0]):\n",
        "        plt.plot(times, data_segments[i] + i * 30)\n",
        "    plt.xlabel('Laikas (sek.)')\n",
        "    plt.yticks(np.arange(0, data_segments.shape[0] * 30, 30), channel_names)\n",
        "\n",
        "    plt.show()\n"
      ]
    },
    {
      "cell_type": "code",
      "execution_count": null,
      "metadata": {
        "colab": {
          "base_uri": "https://localhost:8080/"
        },
        "collapsed": true,
        "id": "gHG8e5YcId6P",
        "outputId": "144ce3ad-6b84-491f-b7fc-adb883a20751"
      },
      "outputs": [
        {
          "output_type": "stream",
          "name": "stdout",
          "text": [
            "(320, 8, 1225)\n"
          ]
        }
      ],
      "source": [
        "data = []\n",
        "labels = []\n",
        "folders = []\n",
        "folder_path = '/content/drive/MyDrive/newDataWithSeperation'\n",
        "\n",
        "\n",
        "for file in os.listdir(folder_path):\n",
        "    if file.endswith('.fif'):\n",
        "        file_path = os.path.join(folder_path, file)\n",
        "        try:\n",
        "            label = remove_numbers(os.path.splitext(file)[0])\n",
        "            folder = get_folder(os.path.splitext(file)[0])\n",
        "            eeg_data = read_eeg_data(file_path, folder)\n",
        "\n",
        "            folder = get_folder(os.path.splitext(file)[0])\n",
        "\n",
        "            data.append(eeg_data)\n",
        "            labels.append(label)\n",
        "            folders.append(folder)\n",
        "\n",
        "        except ValueError as e:\n",
        "            print(f\"Skipping file {file}: {e}\")\n",
        "\n",
        "data = np.array(data)\n",
        "labels = np.array(labels)\n",
        "folders = np.array(folders)\n",
        "print(data.shape)"
      ]
    },
    {
      "cell_type": "code",
      "execution_count": null,
      "metadata": {
        "colab": {
          "base_uri": "https://localhost:8080/"
        },
        "id": "P7mmCHtBSCN0",
        "outputId": "a0fb72cd-c848-453c-fd2f-4b9ba4034c43"
      },
      "outputs": [
        {
          "output_type": "stream",
          "name": "stdout",
          "text": [
            "(640, 8, 1225)\n",
            "(640,)\n",
            "(640,)\n"
          ]
        }
      ],
      "source": [
        "def augment_data_by_reversing(data_segments, labels, folders):\n",
        "    channels = [\"O1\", \"O2\", \"P3\", \"P4\", \"C3\", \"C4\", \"F3\", \"F4\"]\n",
        "    for segment, label, folder in zip(data_segments, labels, folders):\n",
        "        augmented_data_segments.append(segment)\n",
        "        augmented_labels.append(label)\n",
        "        augmented_folders.append(folder)\n",
        "\n",
        "        reversed_segment = segment[:, ::-1]\n",
        "\n",
        "        augmented_data_segments.append(reversed_segment)\n",
        "        augmented_labels.append(label)\n",
        "        augmented_folders.append(folder)\n",
        "\n",
        "    return augmented_data_segments, augmented_labels\n",
        "\n",
        "augmented_data_segments = []\n",
        "augmented_labels = []\n",
        "augmented_folders = []\n",
        "augment_data_by_reversing(data, labels, folders)\n",
        "\n",
        "data = np.array(augmented_data_segments)\n",
        "labels = np.array(augmented_labels)\n",
        "folders = np.array(augmented_folders)\n",
        "print(data.shape)\n",
        "print(labels.shape)\n",
        "print(folders.shape)\n"
      ]
    },
    {
      "cell_type": "code",
      "execution_count": null,
      "metadata": {
        "colab": {
          "base_uri": "https://localhost:8080/"
        },
        "id": "-iYBtqPnOISB",
        "outputId": "8754b0de-4a10-4688-8d8d-30a2849fa60d"
      },
      "outputs": [
        {
          "output_type": "stream",
          "name": "stdout",
          "text": [
            "Requirement already satisfied: tensorflow in /usr/local/lib/python3.10/dist-packages (2.15.0)\n",
            "Requirement already satisfied: absl-py>=1.0.0 in /usr/local/lib/python3.10/dist-packages (from tensorflow) (1.4.0)\n",
            "Requirement already satisfied: astunparse>=1.6.0 in /usr/local/lib/python3.10/dist-packages (from tensorflow) (1.6.3)\n",
            "Requirement already satisfied: flatbuffers>=23.5.26 in /usr/local/lib/python3.10/dist-packages (from tensorflow) (24.3.25)\n",
            "Requirement already satisfied: gast!=0.5.0,!=0.5.1,!=0.5.2,>=0.2.1 in /usr/local/lib/python3.10/dist-packages (from tensorflow) (0.5.4)\n",
            "Requirement already satisfied: google-pasta>=0.1.1 in /usr/local/lib/python3.10/dist-packages (from tensorflow) (0.2.0)\n",
            "Requirement already satisfied: h5py>=2.9.0 in /usr/local/lib/python3.10/dist-packages (from tensorflow) (3.9.0)\n",
            "Requirement already satisfied: libclang>=13.0.0 in /usr/local/lib/python3.10/dist-packages (from tensorflow) (18.1.1)\n",
            "Requirement already satisfied: ml-dtypes~=0.2.0 in /usr/local/lib/python3.10/dist-packages (from tensorflow) (0.2.0)\n",
            "Requirement already satisfied: numpy<2.0.0,>=1.23.5 in /usr/local/lib/python3.10/dist-packages (from tensorflow) (1.25.2)\n",
            "Requirement already satisfied: opt-einsum>=2.3.2 in /usr/local/lib/python3.10/dist-packages (from tensorflow) (3.3.0)\n",
            "Requirement already satisfied: packaging in /usr/local/lib/python3.10/dist-packages (from tensorflow) (24.0)\n",
            "Requirement already satisfied: protobuf!=4.21.0,!=4.21.1,!=4.21.2,!=4.21.3,!=4.21.4,!=4.21.5,<5.0.0dev,>=3.20.3 in /usr/local/lib/python3.10/dist-packages (from tensorflow) (3.20.3)\n",
            "Requirement already satisfied: setuptools in /usr/local/lib/python3.10/dist-packages (from tensorflow) (67.7.2)\n",
            "Requirement already satisfied: six>=1.12.0 in /usr/local/lib/python3.10/dist-packages (from tensorflow) (1.16.0)\n",
            "Requirement already satisfied: termcolor>=1.1.0 in /usr/local/lib/python3.10/dist-packages (from tensorflow) (2.4.0)\n",
            "Requirement already satisfied: typing-extensions>=3.6.6 in /usr/local/lib/python3.10/dist-packages (from tensorflow) (4.11.0)\n",
            "Requirement already satisfied: wrapt<1.15,>=1.11.0 in /usr/local/lib/python3.10/dist-packages (from tensorflow) (1.14.1)\n",
            "Requirement already satisfied: tensorflow-io-gcs-filesystem>=0.23.1 in /usr/local/lib/python3.10/dist-packages (from tensorflow) (0.37.0)\n",
            "Requirement already satisfied: grpcio<2.0,>=1.24.3 in /usr/local/lib/python3.10/dist-packages (from tensorflow) (1.63.0)\n",
            "Requirement already satisfied: tensorboard<2.16,>=2.15 in /usr/local/lib/python3.10/dist-packages (from tensorflow) (2.15.2)\n",
            "Requirement already satisfied: tensorflow-estimator<2.16,>=2.15.0 in /usr/local/lib/python3.10/dist-packages (from tensorflow) (2.15.0)\n",
            "Requirement already satisfied: keras<2.16,>=2.15.0 in /usr/local/lib/python3.10/dist-packages (from tensorflow) (2.15.0)\n",
            "Requirement already satisfied: wheel<1.0,>=0.23.0 in /usr/local/lib/python3.10/dist-packages (from astunparse>=1.6.0->tensorflow) (0.43.0)\n",
            "Requirement already satisfied: google-auth<3,>=1.6.3 in /usr/local/lib/python3.10/dist-packages (from tensorboard<2.16,>=2.15->tensorflow) (2.27.0)\n",
            "Requirement already satisfied: google-auth-oauthlib<2,>=0.5 in /usr/local/lib/python3.10/dist-packages (from tensorboard<2.16,>=2.15->tensorflow) (1.2.0)\n",
            "Requirement already satisfied: markdown>=2.6.8 in /usr/local/lib/python3.10/dist-packages (from tensorboard<2.16,>=2.15->tensorflow) (3.6)\n",
            "Requirement already satisfied: requests<3,>=2.21.0 in /usr/local/lib/python3.10/dist-packages (from tensorboard<2.16,>=2.15->tensorflow) (2.31.0)\n",
            "Requirement already satisfied: tensorboard-data-server<0.8.0,>=0.7.0 in /usr/local/lib/python3.10/dist-packages (from tensorboard<2.16,>=2.15->tensorflow) (0.7.2)\n",
            "Requirement already satisfied: werkzeug>=1.0.1 in /usr/local/lib/python3.10/dist-packages (from tensorboard<2.16,>=2.15->tensorflow) (3.0.3)\n",
            "Requirement already satisfied: cachetools<6.0,>=2.0.0 in /usr/local/lib/python3.10/dist-packages (from google-auth<3,>=1.6.3->tensorboard<2.16,>=2.15->tensorflow) (5.3.3)\n",
            "Requirement already satisfied: pyasn1-modules>=0.2.1 in /usr/local/lib/python3.10/dist-packages (from google-auth<3,>=1.6.3->tensorboard<2.16,>=2.15->tensorflow) (0.4.0)\n",
            "Requirement already satisfied: rsa<5,>=3.1.4 in /usr/local/lib/python3.10/dist-packages (from google-auth<3,>=1.6.3->tensorboard<2.16,>=2.15->tensorflow) (4.9)\n",
            "Requirement already satisfied: requests-oauthlib>=0.7.0 in /usr/local/lib/python3.10/dist-packages (from google-auth-oauthlib<2,>=0.5->tensorboard<2.16,>=2.15->tensorflow) (1.3.1)\n",
            "Requirement already satisfied: charset-normalizer<4,>=2 in /usr/local/lib/python3.10/dist-packages (from requests<3,>=2.21.0->tensorboard<2.16,>=2.15->tensorflow) (3.3.2)\n",
            "Requirement already satisfied: idna<4,>=2.5 in /usr/local/lib/python3.10/dist-packages (from requests<3,>=2.21.0->tensorboard<2.16,>=2.15->tensorflow) (3.7)\n",
            "Requirement already satisfied: urllib3<3,>=1.21.1 in /usr/local/lib/python3.10/dist-packages (from requests<3,>=2.21.0->tensorboard<2.16,>=2.15->tensorflow) (2.0.7)\n",
            "Requirement already satisfied: certifi>=2017.4.17 in /usr/local/lib/python3.10/dist-packages (from requests<3,>=2.21.0->tensorboard<2.16,>=2.15->tensorflow) (2024.2.2)\n",
            "Requirement already satisfied: MarkupSafe>=2.1.1 in /usr/local/lib/python3.10/dist-packages (from werkzeug>=1.0.1->tensorboard<2.16,>=2.15->tensorflow) (2.1.5)\n",
            "Requirement already satisfied: pyasn1<0.7.0,>=0.4.6 in /usr/local/lib/python3.10/dist-packages (from pyasn1-modules>=0.2.1->google-auth<3,>=1.6.3->tensorboard<2.16,>=2.15->tensorflow) (0.6.0)\n",
            "Requirement already satisfied: oauthlib>=3.0.0 in /usr/local/lib/python3.10/dist-packages (from requests-oauthlib>=0.7.0->google-auth-oauthlib<2,>=0.5->tensorboard<2.16,>=2.15->tensorflow) (3.2.2)\n"
          ]
        }
      ],
      "source": [
        "!pip install tensorflow\n",
        "import tensorflow as tf\n",
        "from tensorflow.keras.models import Sequential\n",
        "from tensorflow.keras.layers import Dense\n",
        "from sklearn.model_selection import train_test_split\n",
        "from sklearn.preprocessing import LabelEncoder\n",
        "from tensorflow.keras.layers import Input, Conv1D, ReLU, Flatten, Dense"
      ]
    },
    {
      "cell_type": "code",
      "execution_count": null,
      "metadata": {
        "colab": {
          "base_uri": "https://localhost:8080/"
        },
        "id": "W-jXojwoPXor",
        "outputId": "cf04c850-e3c8-4bbe-f91d-8d5ee5d54154"
      },
      "outputs": [
        {
          "output_type": "stream",
          "name": "stdout",
          "text": [
            "Training set size: (480, 8, 1225)\n",
            "Testing set size: (160, 8, 1225)\n"
          ]
        }
      ],
      "source": [
        "import pandas as pd\n",
        "from sklearn.preprocessing import LabelEncoder\n",
        "\n",
        "df = pd.DataFrame({\n",
        "    'labels': labels,\n",
        "    'folder': folders\n",
        "})\n",
        "\n",
        "encoder = LabelEncoder()\n",
        "df['labels_encoded'] = encoder.fit_transform(df['labels'])\n",
        "\n",
        "test_folders = ['1', '2']\n",
        "mask = df['folder'].isin(test_folders)\n",
        "\n",
        "X_train = data[~mask]\n",
        "y_train = df.loc[~mask, 'labels_encoded']\n",
        "X_test = data[mask]\n",
        "y_test = df.loc[mask, 'labels_encoded']\n",
        "\n",
        "X_train = np.array(X_train)\n",
        "X_test = np.array(X_test)\n",
        "y_train = np.array(y_train)\n",
        "y_test = np.array(y_test)\n",
        "\n",
        "print(\"Training set size:\", X_train.shape)\n",
        "print(\"Testing set size:\", X_test.shape)"
      ]
    },
    {
      "cell_type": "code",
      "execution_count": null,
      "metadata": {
        "colab": {
          "base_uri": "https://localhost:8080/"
        },
        "id": "RsOUVkf2Pio5",
        "outputId": "3227ef6c-fc1a-4d64-e01a-97f897d18731"
      },
      "outputs": [
        {
          "output_type": "stream",
          "name": "stdout",
          "text": [
            "Model: \"sequential\"\n",
            "_________________________________________________________________\n",
            " Layer (type)                Output Shape              Param #   \n",
            "=================================================================\n",
            " conv1d (Conv1D)             (None, 613, 20)           6420      \n",
            "                                                                 \n",
            " conv1d_1 (Conv1D)           (None, 613, 10)           4010      \n",
            "                                                                 \n",
            " flatten (Flatten)           (None, 6130)              0         \n",
            "                                                                 \n",
            " dense (Dense)               (None, 4)                 24524     \n",
            "                                                                 \n",
            "=================================================================\n",
            "Total params: 34954 (136.54 KB)\n",
            "Trainable params: 34954 (136.54 KB)\n",
            "Non-trainable params: 0 (0.00 Byte)\n",
            "_________________________________________________________________\n",
            "Epoch 1/25\n",
            "10/10 [==============================] - 8s 340ms/step - loss: 13.6795 - accuracy: 0.2896 - val_loss: 2.7131 - val_accuracy: 0.2313\n",
            "Epoch 2/25\n",
            "10/10 [==============================] - 2s 219ms/step - loss: 2.8357 - accuracy: 0.3646 - val_loss: 1.4709 - val_accuracy: 0.2562\n",
            "Epoch 3/25\n",
            "10/10 [==============================] - 2s 217ms/step - loss: 1.3520 - accuracy: 0.3708 - val_loss: 1.4312 - val_accuracy: 0.2500\n",
            "Epoch 4/25\n",
            "10/10 [==============================] - 3s 343ms/step - loss: 1.2379 - accuracy: 0.4125 - val_loss: 1.4131 - val_accuracy: 0.2875\n",
            "Epoch 5/25\n",
            "10/10 [==============================] - 3s 356ms/step - loss: 1.1891 - accuracy: 0.4646 - val_loss: 1.4067 - val_accuracy: 0.2875\n",
            "Epoch 6/25\n",
            "10/10 [==============================] - 3s 298ms/step - loss: 1.1149 - accuracy: 0.5063 - val_loss: 1.4044 - val_accuracy: 0.2937\n",
            "Epoch 7/25\n",
            "10/10 [==============================] - 2s 223ms/step - loss: 1.0370 - accuracy: 0.5271 - val_loss: 1.3897 - val_accuracy: 0.3187\n",
            "Epoch 8/25\n",
            "10/10 [==============================] - 2s 231ms/step - loss: 0.9634 - accuracy: 0.5625 - val_loss: 1.3715 - val_accuracy: 0.3313\n",
            "Epoch 9/25\n",
            "10/10 [==============================] - 2s 155ms/step - loss: 0.8782 - accuracy: 0.6187 - val_loss: 1.3577 - val_accuracy: 0.3313\n",
            "Epoch 10/25\n",
            "10/10 [==============================] - 1s 127ms/step - loss: 0.7922 - accuracy: 0.6708 - val_loss: 1.3587 - val_accuracy: 0.3187\n",
            "Epoch 11/25\n",
            "10/10 [==============================] - 1s 125ms/step - loss: 0.7072 - accuracy: 0.7208 - val_loss: 1.3747 - val_accuracy: 0.3250\n",
            "Epoch 12/25\n",
            "10/10 [==============================] - 2s 218ms/step - loss: 0.6184 - accuracy: 0.7688 - val_loss: 1.3883 - val_accuracy: 0.3187\n",
            "Epoch 13/25\n",
            "10/10 [==============================] - 2s 222ms/step - loss: 0.5387 - accuracy: 0.8021 - val_loss: 1.3928 - val_accuracy: 0.3313\n",
            "Epoch 14/25\n",
            "10/10 [==============================] - 2s 199ms/step - loss: 0.4594 - accuracy: 0.8583 - val_loss: 1.3854 - val_accuracy: 0.3500\n",
            "Epoch 15/25\n",
            "10/10 [==============================] - 1s 141ms/step - loss: 0.3934 - accuracy: 0.8938 - val_loss: 1.4147 - val_accuracy: 0.3500\n",
            "Epoch 16/25\n",
            "10/10 [==============================] - 1s 126ms/step - loss: 0.3323 - accuracy: 0.9146 - val_loss: 1.4178 - val_accuracy: 0.3812\n",
            "Epoch 17/25\n",
            "10/10 [==============================] - 1s 129ms/step - loss: 0.2787 - accuracy: 0.9479 - val_loss: 1.4580 - val_accuracy: 0.3750\n",
            "Epoch 18/25\n",
            "10/10 [==============================] - 1s 117ms/step - loss: 0.2601 - accuracy: 0.9542 - val_loss: 1.4573 - val_accuracy: 0.3750\n",
            "Epoch 19/25\n",
            "10/10 [==============================] - 1s 121ms/step - loss: 0.2085 - accuracy: 0.9667 - val_loss: 1.4376 - val_accuracy: 0.3938\n",
            "Epoch 20/25\n",
            "10/10 [==============================] - 1s 118ms/step - loss: 0.1793 - accuracy: 0.9750 - val_loss: 1.4846 - val_accuracy: 0.4062\n",
            "Epoch 21/25\n",
            "10/10 [==============================] - 1s 132ms/step - loss: 0.1816 - accuracy: 0.9792 - val_loss: 1.4612 - val_accuracy: 0.3812\n",
            "Epoch 22/25\n",
            "10/10 [==============================] - 1s 130ms/step - loss: 0.1506 - accuracy: 0.9792 - val_loss: 1.4396 - val_accuracy: 0.4000\n",
            "Epoch 23/25\n",
            "10/10 [==============================] - 2s 195ms/step - loss: 0.1538 - accuracy: 0.9750 - val_loss: 1.4842 - val_accuracy: 0.4187\n",
            "Epoch 24/25\n",
            "10/10 [==============================] - 2s 200ms/step - loss: 0.1618 - accuracy: 0.9812 - val_loss: 1.4798 - val_accuracy: 0.3812\n",
            "Epoch 25/25\n",
            "10/10 [==============================] - 2s 224ms/step - loss: 0.1170 - accuracy: 0.9917 - val_loss: 1.4697 - val_accuracy: 0.4500\n"
          ]
        }
      ],
      "source": [
        "from tensorflow.keras.models import Sequential\n",
        "from tensorflow.keras.callbacks import ModelCheckpoint\n",
        "from tensorflow.keras.layers import Conv1D, ReLU, Flatten, Dense\n",
        "from tensorflow.keras.utils import plot_model\n",
        "from tensorflow.keras.utils import to_categorical\n",
        "\n",
        "y_train_encoded = to_categorical(y_train, num_classes=4)\n",
        "y_test_encoded = to_categorical(y_test, num_classes=4)\n",
        "\n",
        "num_channels = X_train.shape[1]\n",
        "num_time_points = X_train.shape[2]\n",
        "\n",
        "model = Sequential()\n",
        "\n",
        "model.add(Conv1D(filters=20, kernel_size=40, strides=2, padding='same', activation='relu', input_shape=(num_time_points, num_channels)))\n",
        "model.add(Conv1D(filters=10, kernel_size=20, strides=1, padding='same', activation='relu'))\n",
        "model.add(Flatten())\n",
        "model.add(Dense(4, activation='softmax'))\n",
        "\n",
        "model.compile(optimizer='adam', loss='categorical_crossentropy', metrics=['accuracy'])\n",
        "\n",
        "model.summary()\n",
        "\n",
        "X_train = X_train.reshape([-1, 1225, num_channels])\n",
        "X_test = X_test.reshape([-1, 1225, num_channels])\n",
        "\n",
        "checkpoint_filepath = '/tmp/checkpoint_epoch_{epoch:02d}'\n",
        "model_checkpoint_callback = ModelCheckpoint(\n",
        "    filepath=checkpoint_filepath,\n",
        "    save_weights_only=True,\n",
        "    save_freq='epoch')\n",
        "\n",
        "history = model.fit(X_train, y_train_encoded, epochs=25, batch_size=50, validation_data=(X_test, y_test_encoded), callbacks=[model_checkpoint_callback])\n"
      ]
    },
    {
      "cell_type": "code",
      "execution_count": null,
      "metadata": {
        "colab": {
          "base_uri": "https://localhost:8080/"
        },
        "id": "DhGpNk9GnID8",
        "outputId": "df26bb4f-a1b4-448f-aa2a-f1add97237f2"
      },
      "outputs": [
        {
          "output_type": "stream",
          "name": "stdout",
          "text": [
            "Model: \"sequential_2\"\n",
            "_________________________________________________________________\n",
            " Layer (type)                Output Shape              Param #   \n",
            "=================================================================\n",
            " conv1d_3 (Conv1D)           (None, 1194, 130)         33410     \n",
            "                                                                 \n",
            " flatten_2 (Flatten)         (None, 155220)            0         \n",
            "                                                                 \n",
            " dense_4 (Dense)             (None, 152)               23593592  \n",
            "                                                                 \n",
            " dense_5 (Dense)             (None, 150)               22950     \n",
            "                                                                 \n",
            " dense_6 (Dense)             (None, 4)                 604       \n",
            "                                                                 \n",
            "=================================================================\n",
            "Total params: 23650556 (90.22 MB)\n",
            "Trainable params: 23650556 (90.22 MB)\n",
            "Non-trainable params: 0 (0.00 Byte)\n",
            "_________________________________________________________________\n",
            "Epoch 1/25\n",
            "10/10 [==============================] - 13s 1s/step - loss: 99.0421 - accuracy: 0.2896 - val_loss: 23.8403 - val_accuracy: 0.2375\n",
            "Epoch 2/25\n",
            "10/10 [==============================] - 10s 1s/step - loss: 35.3263 - accuracy: 0.3063 - val_loss: 13.5254 - val_accuracy: 0.2937\n",
            "Epoch 3/25\n",
            "10/10 [==============================] - 9s 893ms/step - loss: 14.2659 - accuracy: 0.4396 - val_loss: 6.3845 - val_accuracy: 0.2937\n",
            "Epoch 4/25\n",
            "10/10 [==============================] - 11s 1s/step - loss: 7.0932 - accuracy: 0.5250 - val_loss: 6.6879 - val_accuracy: 0.2875\n",
            "Epoch 5/25\n",
            "10/10 [==============================] - 9s 867ms/step - loss: 3.3357 - accuracy: 0.6333 - val_loss: 3.6916 - val_accuracy: 0.2812\n",
            "Epoch 6/25\n",
            "10/10 [==============================] - 11s 1s/step - loss: 1.6085 - accuracy: 0.7229 - val_loss: 3.8905 - val_accuracy: 0.2688\n",
            "Epoch 7/25\n",
            "10/10 [==============================] - 11s 1s/step - loss: 0.9956 - accuracy: 0.7417 - val_loss: 3.4814 - val_accuracy: 0.3000\n",
            "Epoch 8/25\n",
            "10/10 [==============================] - 10s 998ms/step - loss: 0.6890 - accuracy: 0.8313 - val_loss: 3.1769 - val_accuracy: 0.4313\n",
            "Epoch 9/25\n",
            "10/10 [==============================] - 12s 1s/step - loss: 0.6205 - accuracy: 0.8500 - val_loss: 3.0792 - val_accuracy: 0.3812\n",
            "Epoch 10/25\n",
            "10/10 [==============================] - 10s 1s/step - loss: 0.2452 - accuracy: 0.9229 - val_loss: 2.9562 - val_accuracy: 0.4062\n",
            "Epoch 11/25\n",
            "10/10 [==============================] - 11s 1s/step - loss: 0.2683 - accuracy: 0.9250 - val_loss: 3.1884 - val_accuracy: 0.3125\n",
            "Epoch 12/25\n",
            "10/10 [==============================] - 12s 1s/step - loss: 0.2168 - accuracy: 0.9312 - val_loss: 3.6165 - val_accuracy: 0.2875\n",
            "Epoch 13/25\n",
            "10/10 [==============================] - 9s 943ms/step - loss: 0.2792 - accuracy: 0.9396 - val_loss: 3.2947 - val_accuracy: 0.4375\n",
            "Epoch 14/25\n",
            "10/10 [==============================] - 12s 1s/step - loss: 0.1529 - accuracy: 0.9792 - val_loss: 3.2876 - val_accuracy: 0.4062\n",
            "Epoch 15/25\n",
            "10/10 [==============================] - 12s 1s/step - loss: 0.1423 - accuracy: 0.9542 - val_loss: 3.2806 - val_accuracy: 0.3250\n",
            "Epoch 16/25\n",
            "10/10 [==============================] - 9s 916ms/step - loss: 0.0469 - accuracy: 0.9875 - val_loss: 3.2422 - val_accuracy: 0.4062\n",
            "Epoch 17/25\n",
            "10/10 [==============================] - 11s 1s/step - loss: 0.4949 - accuracy: 0.9771 - val_loss: 3.4513 - val_accuracy: 0.3500\n",
            "Epoch 18/25\n",
            "10/10 [==============================] - 12s 1s/step - loss: 0.1208 - accuracy: 0.9729 - val_loss: 3.2488 - val_accuracy: 0.4250\n",
            "Epoch 19/25\n",
            "10/10 [==============================] - 17s 2s/step - loss: 0.0911 - accuracy: 0.9812 - val_loss: 4.0843 - val_accuracy: 0.3562\n",
            "Epoch 20/25\n",
            "10/10 [==============================] - 10s 975ms/step - loss: 0.1512 - accuracy: 0.9542 - val_loss: 4.1974 - val_accuracy: 0.3812\n",
            "Epoch 21/25\n",
            "10/10 [==============================] - 12s 1s/step - loss: 0.0934 - accuracy: 0.9750 - val_loss: 3.5121 - val_accuracy: 0.3875\n",
            "Epoch 22/25\n",
            "10/10 [==============================] - 11s 1s/step - loss: 0.0325 - accuracy: 0.9896 - val_loss: 3.4623 - val_accuracy: 0.4062\n",
            "Epoch 23/25\n",
            "10/10 [==============================] - 9s 900ms/step - loss: 0.0157 - accuracy: 0.9979 - val_loss: 3.4077 - val_accuracy: 0.3812\n",
            "Epoch 24/25\n",
            "10/10 [==============================] - 12s 1s/step - loss: 0.0065 - accuracy: 1.0000 - val_loss: 3.3603 - val_accuracy: 0.4313\n",
            "Epoch 25/25\n",
            "10/10 [==============================] - 11s 1s/step - loss: 0.0040 - accuracy: 1.0000 - val_loss: 3.3869 - val_accuracy: 0.4125\n"
          ]
        }
      ],
      "source": [
        "import tensorflow as tf\n",
        "from tensorflow.keras.callbacks import ModelCheckpoint\n",
        "from tensorflow.keras.models import Sequential\n",
        "from tensorflow.keras.layers import Conv1D, Flatten, Dense, Dropout\n",
        "from tensorflow.keras.utils import to_categorical\n",
        "\n",
        "y_train_encoded = to_categorical(y_train, num_classes=4)\n",
        "y_test_encoded = to_categorical(y_test, num_classes=4)\n",
        "\n",
        "num_channels = X_train.shape[1]\n",
        "num_time_points = X_train.shape[2]\n",
        "\n",
        "model = Sequential([\n",
        "    Conv1D(filters=130, kernel_size=32, strides=1, padding='valid', activation='relu', input_shape=(num_time_points, num_channels)),\n",
        "    Flatten(),\n",
        "    Dense(152, activation='relu'),\n",
        "    Dense(150, activation='relu'),\n",
        "    Dense(4, activation='softmax')\n",
        "])\n",
        "model.compile(optimizer='adam', loss='categorical_crossentropy', metrics=['accuracy'])\n",
        "\n",
        "model.summary()\n",
        "\n",
        "X_train = X_train.reshape([-1, 1225, num_channels])\n",
        "X_test = X_test.reshape([-1, 1225, num_channels])\n",
        "\n",
        "checkpoint_filepath = '/tmp/checkpoint_epoch_{epoch:02d}'\n",
        "model_checkpoint_callback = ModelCheckpoint(\n",
        "    filepath=checkpoint_filepath,\n",
        "    save_weights_only=True,\n",
        "    save_freq='epoch')\n",
        "\n",
        "history = model.fit(X_train, y_train_encoded, epochs=25, batch_size=50, validation_data=(X_test, y_test_encoded), callbacks=[model_checkpoint_callback])\n",
        "\n"
      ]
    },
    {
      "cell_type": "code",
      "execution_count": null,
      "metadata": {
        "colab": {
          "base_uri": "https://localhost:8080/"
        },
        "id": "mHeYDZtDuGbD",
        "outputId": "782e030f-c1ac-4062-a2b8-34f13dfa5262"
      },
      "outputs": [
        {
          "output_type": "stream",
          "name": "stdout",
          "text": [
            "Model: \"sequential_51\"\n",
            "_________________________________________________________________\n",
            " Layer (type)                Output Shape              Param #   \n",
            "=================================================================\n",
            " conv2d_210 (Conv2D)         (None, 1225, 4, 60)       1020      \n",
            "                                                                 \n",
            " max_pooling2d_210 (MaxPool  (None, 612, 2, 60)        0         \n",
            " ing2D)                                                          \n",
            "                                                                 \n",
            " conv2d_211 (Conv2D)         (None, 612, 2, 50)        48050     \n",
            "                                                                 \n",
            " max_pooling2d_211 (MaxPool  (None, 306, 2, 50)        0         \n",
            " ing2D)                                                          \n",
            "                                                                 \n",
            " conv2d_212 (Conv2D)         (None, 306, 2, 40)        200040    \n",
            "                                                                 \n",
            " max_pooling2d_212 (MaxPool  (None, 153, 2, 40)        0         \n",
            " ing2D)                                                          \n",
            "                                                                 \n",
            " conv2d_213 (Conv2D)         (None, 153, 2, 40)        160040    \n",
            "                                                                 \n",
            " max_pooling2d_213 (MaxPool  (None, 76, 2, 40)         0         \n",
            " ing2D)                                                          \n",
            "                                                                 \n",
            " conv2d_214 (Conv2D)         (None, 76, 2, 4)          36004     \n",
            "                                                                 \n",
            " max_pooling2d_214 (MaxPool  (None, 38, 2, 4)          0         \n",
            " ing2D)                                                          \n",
            "                                                                 \n",
            " flatten_51 (Flatten)        (None, 304)               0         \n",
            "                                                                 \n",
            " dense_143 (Dense)           (None, 50)                15250     \n",
            "                                                                 \n",
            " dense_144 (Dense)           (None, 20)                1020      \n",
            "                                                                 \n",
            " dense_145 (Dense)           (None, 4)                 84        \n",
            "                                                                 \n",
            "=================================================================\n",
            "Total params: 461508 (1.76 MB)\n",
            "Trainable params: 461508 (1.76 MB)\n",
            "Non-trainable params: 0 (0.00 Byte)\n",
            "_________________________________________________________________\n",
            "Epoch 1/25\n",
            "10/10 [==============================] - 3s 103ms/step - loss: 1.3222 - accuracy: 0.3458 - val_loss: 1.2150 - val_accuracy: 0.3750\n",
            "Epoch 2/25\n",
            "10/10 [==============================] - 1s 57ms/step - loss: 1.1706 - accuracy: 0.4313 - val_loss: 1.1020 - val_accuracy: 0.6062\n",
            "Epoch 3/25\n",
            "10/10 [==============================] - 1s 59ms/step - loss: 1.0624 - accuracy: 0.5021 - val_loss: 0.9383 - val_accuracy: 0.6500\n",
            "Epoch 4/25\n",
            "10/10 [==============================] - 1s 55ms/step - loss: 0.9338 - accuracy: 0.5771 - val_loss: 0.8910 - val_accuracy: 0.5688\n",
            "Epoch 5/25\n",
            "10/10 [==============================] - 1s 59ms/step - loss: 0.8651 - accuracy: 0.6104 - val_loss: 0.8757 - val_accuracy: 0.6250\n",
            "Epoch 6/25\n",
            "10/10 [==============================] - 1s 57ms/step - loss: 0.8501 - accuracy: 0.6271 - val_loss: 0.7663 - val_accuracy: 0.6812\n",
            "Epoch 7/25\n",
            "10/10 [==============================] - 1s 55ms/step - loss: 0.7752 - accuracy: 0.6812 - val_loss: 0.7290 - val_accuracy: 0.7188\n",
            "Epoch 8/25\n",
            "10/10 [==============================] - 1s 52ms/step - loss: 0.7323 - accuracy: 0.7250 - val_loss: 0.7276 - val_accuracy: 0.7125\n",
            "Epoch 9/25\n",
            "10/10 [==============================] - 0s 50ms/step - loss: 0.7061 - accuracy: 0.7271 - val_loss: 0.7490 - val_accuracy: 0.7188\n",
            "Epoch 10/25\n",
            "10/10 [==============================] - 1s 54ms/step - loss: 0.7386 - accuracy: 0.6979 - val_loss: 0.8111 - val_accuracy: 0.5813\n",
            "Epoch 11/25\n",
            "10/10 [==============================] - 1s 52ms/step - loss: 0.7224 - accuracy: 0.6958 - val_loss: 0.7196 - val_accuracy: 0.7500\n",
            "Epoch 12/25\n",
            "10/10 [==============================] - 1s 53ms/step - loss: 0.6661 - accuracy: 0.7208 - val_loss: 0.7019 - val_accuracy: 0.7125\n",
            "Epoch 13/25\n",
            "10/10 [==============================] - 0s 50ms/step - loss: 0.6304 - accuracy: 0.7708 - val_loss: 0.6955 - val_accuracy: 0.7000\n",
            "Epoch 14/25\n",
            "10/10 [==============================] - 0s 51ms/step - loss: 0.5995 - accuracy: 0.7500 - val_loss: 0.6981 - val_accuracy: 0.7000\n",
            "Epoch 15/25\n",
            "10/10 [==============================] - 0s 50ms/step - loss: 0.5639 - accuracy: 0.7979 - val_loss: 0.7292 - val_accuracy: 0.6562\n",
            "Epoch 16/25\n",
            "10/10 [==============================] - 0s 50ms/step - loss: 0.5271 - accuracy: 0.8146 - val_loss: 0.6991 - val_accuracy: 0.6875\n",
            "Epoch 17/25\n",
            "10/10 [==============================] - 0s 50ms/step - loss: 0.5329 - accuracy: 0.8000 - val_loss: 0.7028 - val_accuracy: 0.6875\n",
            "Epoch 18/25\n",
            "10/10 [==============================] - 0s 51ms/step - loss: 0.5053 - accuracy: 0.8250 - val_loss: 0.7776 - val_accuracy: 0.6562\n",
            "Epoch 19/25\n",
            "10/10 [==============================] - 0s 50ms/step - loss: 0.4797 - accuracy: 0.8250 - val_loss: 0.6893 - val_accuracy: 0.7000\n",
            "Epoch 20/25\n",
            "10/10 [==============================] - 0s 50ms/step - loss: 0.4611 - accuracy: 0.8438 - val_loss: 0.7299 - val_accuracy: 0.6875\n",
            "Epoch 21/25\n",
            "10/10 [==============================] - 0s 50ms/step - loss: 0.4039 - accuracy: 0.8604 - val_loss: 0.6959 - val_accuracy: 0.7000\n",
            "Epoch 22/25\n",
            "10/10 [==============================] - 0s 52ms/step - loss: 0.3811 - accuracy: 0.8771 - val_loss: 0.7487 - val_accuracy: 0.6938\n",
            "Epoch 23/25\n",
            "10/10 [==============================] - 0s 50ms/step - loss: 0.4539 - accuracy: 0.8188 - val_loss: 0.8198 - val_accuracy: 0.6500\n",
            "Epoch 24/25\n",
            "10/10 [==============================] - 1s 53ms/step - loss: 0.4215 - accuracy: 0.8646 - val_loss: 0.6891 - val_accuracy: 0.7250\n",
            "Epoch 25/25\n",
            "10/10 [==============================] - 0s 49ms/step - loss: 0.3705 - accuracy: 0.8750 - val_loss: 0.7169 - val_accuracy: 0.6812\n"
          ]
        }
      ],
      "source": [
        "import tensorflow as tf\n",
        "from tensorflow.keras.callbacks import ModelCheckpoint\n",
        "from tensorflow.keras.models import Sequential\n",
        "from tensorflow.keras.layers import Dense, Conv1D, MaxPooling1D, Flatten, MaxPooling2D, Conv2D\n",
        "from tensorflow.keras.utils import to_categorical\n",
        "\n",
        "y_train_encoded = to_categorical(y_train, num_classes=4)\n",
        "y_test_encoded = to_categorical(y_test, num_classes=4)\n",
        "\n",
        "num_channels = X_train.shape[1]\n",
        "num_time_points = X_train.shape[2]\n",
        "\n",
        "model = Sequential([\n",
        "    Conv2D(filters=60, kernel_size=(4, 4), activation='relu', strides=(1, 1), padding='same', input_shape=(num_time_points, num_channels, 1)),\n",
        "    MaxPooling2D(pool_size=(2, 2)),\n",
        "\n",
        "    Conv2D(filters=50, kernel_size=(4, 4), activation='relu', strides=(1, 1), padding='same'),\n",
        "    MaxPooling2D(pool_size=(2, 1)),\n",
        "\n",
        "    Conv2D(filters=40, kernel_size=(10, 10), activation='relu', strides=(1, 1), padding='same'),\n",
        "    MaxPooling2D(pool_size=(2, 1)),\n",
        "\n",
        "    Conv2D(filters=40, kernel_size=(10, 10), activation='relu', strides=(1, 1), padding='same'),\n",
        "    MaxPooling2D(pool_size=(2, 1)),\n",
        "\n",
        "    Conv2D(filters=4, kernel_size=(15, 15), activation='relu', strides=(1, 1), padding='same'),\n",
        "    MaxPooling2D(pool_size=(2, 1)),\n",
        "\n",
        "    Flatten(),\n",
        "    Dense(50, activation='tanh'),\n",
        "    Dense(20, activation='tanh'),\n",
        "    Dense(4, activation='softmax')\n",
        "])\n",
        "\n",
        "model.compile(optimizer='adam', loss='categorical_crossentropy', metrics=['accuracy'])\n",
        "model.summary()\n",
        "\n",
        "X_train = X_train.reshape([-1, num_time_points, num_channels, 1])\n",
        "X_test = X_test.reshape([-1, num_time_points, num_channels, 1])\n",
        "\n",
        "checkpoint_filepath = '/tmp/checkpoint_epoch_{epoch:02d}'\n",
        "model_checkpoint_callback = ModelCheckpoint(\n",
        "    filepath=checkpoint_filepath,\n",
        "    save_weights_only=True,\n",
        "    save_freq='epoch')\n",
        "\n",
        "history = model.fit(X_train, y_train_encoded, epochs=25, batch_size=50, validation_data=(X_test, y_test_encoded), callbacks=[model_checkpoint_callback])"
      ]
    },
    {
      "cell_type": "code",
      "execution_count": null,
      "metadata": {
        "colab": {
          "base_uri": "https://localhost:8080/",
          "height": 410
        },
        "id": "vYEmclQyQJKv",
        "outputId": "741fe13b-9331-46c3-cfe2-e3f4b84524c4"
      },
      "outputs": [
        {
          "output_type": "display_data",
          "data": {
            "text/plain": [
              "<Figure size 1200x400 with 2 Axes>"
            ],
            "image/png": "[encoded data removed]"
          },
          "metadata": {}
        }
      ],
      "source": [
        "import matplotlib.pyplot as plt\n",
        "\n",
        "plt.figure(figsize=(12, 4))\n",
        "plt.subplot(1, 2, 1)\n",
        "plt.plot(history.history['accuracy'])\n",
        "plt.plot(history.history['val_accuracy'])\n",
        "plt.title('Modelio tikslumas')\n",
        "plt.ylabel('Tikslumas')\n",
        "plt.xlabel('Epizodai')\n",
        "plt.legend(['Mok', 'Test'], loc='lower right')\n",
        "\n",
        "plt.subplot(1, 2, 2)\n",
        "plt.plot(history.history['loss'])\n",
        "plt.plot(history.history['val_loss'])\n",
        "plt.title('Modelio nuostoliai')\n",
        "plt.ylabel('Nuostoliai')\n",
        "plt.xlabel('Epizodai')\n",
        "plt.legend(['Mok', 'Test'], loc='upper right')\n",
        "\n",
        "plt.show()"
      ]
    },
    {
      "cell_type": "code",
      "execution_count": null,
      "metadata": {
        "colab": {
          "base_uri": "https://localhost:8080/",
          "height": 736
        },
        "id": "MyVQGbJlQLLb",
        "outputId": "d51422fb-70eb-4dee-a9a9-e483c8b88f26"
      },
      "outputs": [
        {
          "output_type": "stream",
          "name": "stdout",
          "text": [
            "5/5 [==============================] - 1s 94ms/step\n"
          ]
        },
        {
          "output_type": "display_data",
          "data": {
            "text/plain": [
              "<Figure size 1000x800 with 2 Axes>"
            ],
            "image/png": "[encoded data removed]"
          },
          "metadata": {}
        }
      ],
      "source": [
        "from sklearn.metrics import confusion_matrix\n",
        "import seaborn as sns\n",
        "\n",
        "epoch_to_load = 11\n",
        "model.load_weights(f'/tmp/checkpoint_epoch_{epoch_to_load:02d}')\n",
        "\n",
        "predictions = model.predict(X_test)\n",
        "predicted_classes = np.argmax(predictions, axis=1)\n",
        "\n",
        "for data_point, predicted_class in zip(X_test, predicted_classes):\n",
        "    data_point.reshape([-1, 1, 1225])\n",
        "\n",
        "cm = confusion_matrix(y_test, predicted_classes)\n",
        "\n",
        "labels_true = encoder.inverse_transform(range(len(encoder.classes_)))\n",
        "\n",
        "labels_true = [label.replace(\"Baseline\", \"Jokio\").replace(\"Desine\", \"Dešinė\") for label in labels_true]\n",
        "\n",
        "plt.figure(figsize=(10, 8))\n",
        "sns.heatmap(cm, annot=True, fmt='d', xticklabels=labels_true, yticklabels=labels_true, cmap=\"crest\")\n",
        "plt.xlabel('Spėjimas')\n",
        "plt.ylabel('Tiesa')\n",
        "plt.title('Klasifikavimo lentelė')\n",
        "plt.show()\n",
        "\n"
      ]
    }
  ],
  "metadata": {
    "accelerator": "GPU",
    "colab": {
      "gpuType": "T4",
      "provenance": []
    },
    "kernelspec": {
      "display_name": "Python 3",
      "name": "python3"
    },
    "language_info": {
      "name": "python"
    }
  },
  "nbformat": 4,
  "nbformat_minor": 0
}